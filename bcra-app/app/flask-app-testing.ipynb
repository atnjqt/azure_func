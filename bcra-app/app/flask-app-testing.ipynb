{
 "cells": [
  {
   "cell_type": "markdown",
   "metadata": {},
   "source": [
    "## BCRA R Package in Python Flask App\n",
    "\n",
    "- Review in notebook before pivoting to Docker!"
   ]
  },
  {
   "cell_type": "code",
   "execution_count": 38,
   "metadata": {},
   "outputs": [],
   "source": [
    "import flask\n",
    "from flask import request, jsonify\n",
    "\n",
    "import pandas as pd\n",
    "import os\n",
    "\n",
    "# Allow R Package import and instal\n",
    "from rpy2.robjects.packages import importr\n",
    "from rpy2.robjects.vectors import StrVector\n",
    "import rpy2.robjects.packages as rpackages\n",
    "\n",
    "# Allow conversion for dataframes\n",
    "import rpy2.robjects as ro\n",
    "from rpy2.robjects import pandas2ri\n"
   ]
  },
  {
   "cell_type": "markdown",
   "metadata": {},
   "source": [
    "## Using `rpy2` for R in Python\n",
    "\n",
    "\n",
    "- https://pypi.org/project/rpy2/\n",
    "\n",
    "- https://rpy2.github.io/doc/latest/html/introduction.html\n",
    "\n",
    "\n",
    "- *On local Macbook I needed to set `R_HOME` in environment path*\n"
   ]
  },
  {
   "cell_type": "code",
   "execution_count": 31,
   "metadata": {
    "collapsed": true
   },
   "outputs": [
    {
     "name": "stdout",
     "output_type": "stream",
     "text": [
      "Collecting rpy2\n",
      "\u001b[?25l  Downloading https://files.pythonhosted.org/packages/f5/53/bebbaa532ce64c5fb9bd99c37c7ed5ec7c1fd870e5a2d0f370e8a089c72e/rpy2-3.4.4-cp37-cp37m-macosx_10_14_x86_64.whl (235kB)\n",
      "\u001b[K     |████████████████████████████████| 235kB 2.5MB/s eta 0:00:01\n",
      "\u001b[?25hRequirement already satisfied: jinja2 in /Users/etiennejacquot/opt/anaconda3/lib/python3.7/site-packages (from rpy2) (2.10.3)\n",
      "Requirement already satisfied: cffi>=1.10.0 in /Users/etiennejacquot/opt/anaconda3/lib/python3.7/site-packages (from rpy2) (1.12.3)\n",
      "Requirement already satisfied: tzlocal in /Users/etiennejacquot/opt/anaconda3/lib/python3.7/site-packages (from rpy2) (1.5.1)\n",
      "Requirement already satisfied: pytz in /Users/etiennejacquot/opt/anaconda3/lib/python3.7/site-packages (from rpy2) (2019.1)\n",
      "Requirement already satisfied: MarkupSafe>=0.23 in /Users/etiennejacquot/opt/anaconda3/lib/python3.7/site-packages (from jinja2->rpy2) (1.1.1)\n",
      "Requirement already satisfied: pycparser in /Users/etiennejacquot/opt/anaconda3/lib/python3.7/site-packages (from cffi>=1.10.0->rpy2) (2.19)\n",
      "Installing collected packages: rpy2\n",
      "Successfully installed rpy2-3.4.4\n",
      "Note: you may need to restart the kernel to use updated packages.\n"
     ]
    }
   ],
   "source": [
    "pip install rpy2"
   ]
  },
  {
   "cell_type": "code",
   "execution_count": 21,
   "metadata": {},
   "outputs": [],
   "source": [
    "os.environ['R_HOME'] = '/Library/Frameworks/R.framework/Resources/'"
   ]
  },
  {
   "cell_type": "markdown",
   "metadata": {},
   "source": [
    "### Install the R packages\n",
    "\n",
    "I think I had to run this through R, not via Python ... \n",
    "\n",
    "- more info here: https://rpy2.github.io/doc/v2.9.x/html/robjects_rpackages.html#installing-removing-r-packages\n",
    "\n",
    "- Helpful example here as well: https://towardsdatascience.com/an-introduction-to-working-with-r-and-python-1c51fac0b16f\n",
    "\n"
   ]
  },
  {
   "cell_type": "code",
   "execution_count": 24,
   "metadata": {},
   "outputs": [
    {
     "data": {
      "text/plain": [
       "<rpy2.rinterface_lib.sexp.NULLType object at 0x7fe3e052ccd0> [RTYPES.NILSXP]"
      ]
     },
     "execution_count": 24,
     "metadata": {},
     "output_type": "execute_result"
    }
   ],
   "source": [
    "# Choosing a CRAN Mirror\n",
    "import rpy2.robjects.packages as rpackages\n",
    "utils = rpackages.importr('utils')\n",
    "utils.chooseCRANmirror(ind=1)\n",
    "\n",
    "# Installing required packages\n",
    "from rpy2.robjects.vectors import StrVector\n",
    "packages = ('BCRA')\n",
    "utils.install_packages(StrVector(packages))"
   ]
  },
  {
   "cell_type": "markdown",
   "metadata": {},
   "source": [
    "### Load the BCRA R Package"
   ]
  },
  {
   "cell_type": "code",
   "execution_count": 47,
   "metadata": {},
   "outputs": [],
   "source": [
    "bcra = importr('BCRA')"
   ]
  },
  {
   "cell_type": "markdown",
   "metadata": {},
   "source": [
    "### You can see all functions for BCRA R package"
   ]
  },
  {
   "cell_type": "code",
   "execution_count": 48,
   "metadata": {},
   "outputs": [
    {
     "data": {
      "text/plain": [
       "{'___NAMESPACE___': '.__NAMESPACE__.',\n",
       " '___S3MethodsTable___': '.__S3MethodsTable__.',\n",
       " '_packageName': '.packageName',\n",
       " 'absolute_risk': 'absolute.risk',\n",
       " 'check_summary': 'check.summary',\n",
       " 'error_table': 'error.table',\n",
       " 'error_table_all': 'error.table.all',\n",
       " 'list_constants': 'list.constants',\n",
       " 'recode_check': 'recode.check',\n",
       " 'relative_risk': 'relative.risk',\n",
       " 'risk_summary': 'risk.summary'}"
      ]
     },
     "execution_count": 48,
     "metadata": {},
     "output_type": "execute_result"
    }
   ],
   "source": [
    "bcra.__dict__['_rpy2r']"
   ]
  },
  {
   "cell_type": "markdown",
   "metadata": {},
   "source": [
    "## Load our functions for R\n",
    "\n",
    "- for this example we mostly only need `absolute_risk` but error checking is of course recommended"
   ]
  },
  {
   "cell_type": "code",
   "execution_count": 50,
   "metadata": {},
   "outputs": [],
   "source": [
    "absolute_risk = bcra.absolute_risk\n",
    "check_summary = bcra.check_summary\n",
    "relative_risk = bcra.relative_risk\n",
    "risk_summary = bcra.risk_summary"
   ]
  },
  {
   "cell_type": "markdown",
   "metadata": {},
   "source": [
    "## Convert Pandas df to R dataframe\n",
    "\n",
    "- this is sample input BCRA data for testing"
   ]
  },
  {
   "cell_type": "code",
   "execution_count": 62,
   "metadata": {},
   "outputs": [],
   "source": [
    "df = pd.DataFrame({'id':1,\n",
    "                            'T1':40,\n",
    "                            'T2':45,\n",
    "                            'N_Biop':1,\n",
    "                            'HypPlas':99,\n",
    "                            'AgeMen':14,\n",
    "                            'Age1st':24,\n",
    "                            'N_Rels':1,\n",
    "                            'Race':1\n",
    "                           },index=['id'])"
   ]
  },
  {
   "cell_type": "code",
   "execution_count": 81,
   "metadata": {},
   "outputs": [],
   "source": [
    "pandas2ri.activate()\n",
    "\n",
    "# Convert to R dataframe\n",
    "r_dt = ro.conversion.py2rpy(df) # df is a pd.DataFrame object\n",
    "\n",
    "# Convert back to pandas DataFrame        \n",
    "# pd_dt = ro.conversion.rpy2py(r_dt)"
   ]
  },
  {
   "cell_type": "code",
   "execution_count": 82,
   "metadata": {},
   "outputs": [
    {
     "data": {
      "text/html": [
       "\n",
       "        <span>R/rpy2 DataFrame (1 x 9)</span>\n",
       "        <table>\n",
       "          <thead>\n",
       "            <tr>\n",
       "              \n",
       "              <th>id</th>\n",
       "              \n",
       "              <th>T1</th>\n",
       "              \n",
       "              <th>T2</th>\n",
       "              \n",
       "              <th>...</th>\n",
       "              \n",
       "              <th>Age1st</th>\n",
       "              \n",
       "              <th>N_Rels</th>\n",
       "              \n",
       "              <th>Race</th>\n",
       "              \n",
       "            </tr>\n",
       "          </thead>\n",
       "          <tbody>\n",
       "          \n",
       "          <tr>\n",
       "            \n",
       "            <td>\n",
       "              ...\n",
       "            </td>\n",
       "            \n",
       "            <td>\n",
       "              ...\n",
       "            </td>\n",
       "            \n",
       "            <td>\n",
       "              ...\n",
       "            </td>\n",
       "            \n",
       "            <td>\n",
       "              ...\n",
       "            </td>\n",
       "            \n",
       "            <td>\n",
       "              ...\n",
       "            </td>\n",
       "            \n",
       "            <td>\n",
       "              ...\n",
       "            </td>\n",
       "            \n",
       "            <td>\n",
       "              ...\n",
       "            </td>\n",
       "            \n",
       "          </tr>\n",
       "          \n",
       "          </tbody>\n",
       "        </table>\n",
       "    "
      ],
      "text/plain": [
       "<rpy2.robjects.vectors.DataFrame object at 0x7fe3d00a4e60> [RTYPES.VECSXP]\n",
       "R classes: ('data.frame',)\n",
       "[IntSexpVe..., IntSexpVe..., IntSexpVe..., IntSexpVe..., ..., IntSexpVe..., IntSexpVe..., IntSexpVe..., IntSexpVe...]\n",
       "  id: <class 'rpy2.rinterface.IntSexpVector'>\n",
       "  <rpy2.rinterface.IntSexpVector object at 0x7fe3cee12be0> [RTYPES.INTSXP]\n",
       "  T1: <class 'rpy2.rinterface.IntSexpVector'>\n",
       "  <rpy2.rinterface.IntSexpVector object at 0x7fe3ced447d0> [RTYPES.INTSXP]\n",
       "  T2: <class 'rpy2.rinterface.IntSexpVector'>\n",
       "  <rpy2.rinterface.IntSexpVector object at 0x7fe3d067b500> [RTYPES.INTSXP]\n",
       "  N_Biop: <class 'rpy2.rinterface.IntSexpVector'>\n",
       "  <rpy2.rinterface.IntSexpVector object at 0x7fe3ced447d0> [RTYPES.INTSXP]\n",
       "  HypPlas: <class 'rpy2.rinterface.IntSexpVector'>\n",
       "  <rpy2.rinterface.IntSexpVector object at 0x7fe3d04cebe0> [RTYPES.INTSXP]\n",
       "  AgeMen: <class 'rpy2.rinterface.IntSexpVector'>\n",
       "  <rpy2.rinterface.IntSexpVector object at 0x7fe3cf49a280> [RTYPES.INTSXP]\n",
       "  Age1st: <class 'rpy2.rinterface.IntSexpVector'>\n",
       "  <rpy2.rinterface.IntSexpVector object at 0x7fe3cec769b0> [RTYPES.INTSXP]\n",
       "  N_Rels: <class 'rpy2.rinterface.IntSexpVector'>\n",
       "  <rpy2.rinterface.IntSexpVector object at 0x7fe3cecec870> [RTYPES.INTSXP]\n",
       "  Race: <class 'rpy2.rinterface.IntSexpVector'>\n",
       "  <rpy2.rinterface.IntSexpVector object at 0x7fe3cec769b0> [RTYPES.INTSXP]"
      ]
     },
     "execution_count": 82,
     "metadata": {},
     "output_type": "execute_result"
    }
   ],
   "source": [
    "r_dt"
   ]
  },
  {
   "cell_type": "markdown",
   "metadata": {},
   "source": [
    "## Pass the `r_dt` to bcra function for absolute risk calculation:"
   ]
  },
  {
   "cell_type": "code",
   "execution_count": 78,
   "metadata": {},
   "outputs": [
    {
     "name": "stdout",
     "output_type": "stream",
     "text": [
      "absolute risk for provided sample df -->\n",
      "\n",
      " [1.64707903]\n"
     ]
    }
   ],
   "source": [
    "try:\n",
    "    print('absolute risk for provided sample df -->\\n\\n', absolute_risk(data=r_dt))\n",
    "except:\n",
    "    print('failed to get absolute risk')\n"
   ]
  },
  {
   "cell_type": "markdown",
   "metadata": {},
   "source": [
    "## Okay cool so it worked! We can also get relative risk & summary \n",
    "\n",
    "*Spend some time and think about containerization for this project*\n",
    "\n",
    "- likely a slim python which we install R on top of? Or maybe there is a linux distro which is slim and we can install both on ... just need to think about the pip dependencies v the R dependencies"
   ]
  },
  {
   "cell_type": "code",
   "execution_count": 86,
   "metadata": {},
   "outputs": [
    {
     "data": {
      "text/html": [
       "<div>\n",
       "<style scoped>\n",
       "    .dataframe tbody tr th:only-of-type {\n",
       "        vertical-align: middle;\n",
       "    }\n",
       "\n",
       "    .dataframe tbody tr th {\n",
       "        vertical-align: top;\n",
       "    }\n",
       "\n",
       "    .dataframe thead th {\n",
       "        text-align: right;\n",
       "    }\n",
       "</style>\n",
       "<table border=\"1\" class=\"dataframe\">\n",
       "  <thead>\n",
       "    <tr style=\"text-align: right;\">\n",
       "      <th></th>\n",
       "      <th>RR_Star1</th>\n",
       "      <th>RR_Star2</th>\n",
       "      <th>PatternNumber</th>\n",
       "    </tr>\n",
       "  </thead>\n",
       "  <tbody>\n",
       "    <tr>\n",
       "      <th>1</th>\n",
       "      <td>4.551158</td>\n",
       "      <td>3.412139</td>\n",
       "      <td>41.0</td>\n",
       "    </tr>\n",
       "  </tbody>\n",
       "</table>\n",
       "</div>"
      ],
      "text/plain": [
       "   RR_Star1  RR_Star2  PatternNumber\n",
       "1  4.551158  3.412139           41.0"
      ]
     },
     "execution_count": 86,
     "metadata": {},
     "output_type": "execute_result"
    }
   ],
   "source": [
    "relative_risk(data=r_dt)"
   ]
  },
  {
   "cell_type": "code",
   "execution_count": 87,
   "metadata": {},
   "outputs": [
    {
     "data": {
      "text/html": [
       "<div>\n",
       "<style scoped>\n",
       "    .dataframe tbody tr th:only-of-type {\n",
       "        vertical-align: middle;\n",
       "    }\n",
       "\n",
       "    .dataframe tbody tr th {\n",
       "        vertical-align: top;\n",
       "    }\n",
       "\n",
       "    .dataframe thead th {\n",
       "        text-align: right;\n",
       "    }\n",
       "</style>\n",
       "<table border=\"1\" class=\"dataframe\">\n",
       "  <thead>\n",
       "    <tr style=\"text-align: right;\">\n",
       "      <th></th>\n",
       "      <th>Variable</th>\n",
       "      <th>Label</th>\n",
       "      <th>Mean</th>\n",
       "      <th>StdDev</th>\n",
       "      <th>N</th>\n",
       "      <th>NMiss</th>\n",
       "    </tr>\n",
       "  </thead>\n",
       "  <tbody>\n",
       "    <tr>\n",
       "      <th>1</th>\n",
       "      <td>Error_Ind</td>\n",
       "      <td>If mean not 0, implies ERROR in file</td>\n",
       "      <td>0</td>\n",
       "      <td>None</td>\n",
       "      <td>1</td>\n",
       "      <td>0</td>\n",
       "    </tr>\n",
       "    <tr>\n",
       "      <th>2</th>\n",
       "      <td>AbsRisk</td>\n",
       "      <td>Abs risk(%) of BrCa in age interval [T1,T2)</td>\n",
       "      <td>1.64707903057814</td>\n",
       "      <td>None</td>\n",
       "      <td>1</td>\n",
       "      <td>0</td>\n",
       "    </tr>\n",
       "    <tr>\n",
       "      <th>3</th>\n",
       "      <td>RR_Star1</td>\n",
       "      <td>Relative risk age lt 50</td>\n",
       "      <td>4.55115837466802</td>\n",
       "      <td>None</td>\n",
       "      <td>1</td>\n",
       "      <td>0</td>\n",
       "    </tr>\n",
       "    <tr>\n",
       "      <th>4</th>\n",
       "      <td>RR_Star2</td>\n",
       "      <td>Relative risk age ge 50</td>\n",
       "      <td>3.41213878855182</td>\n",
       "      <td>None</td>\n",
       "      <td>1</td>\n",
       "      <td>0</td>\n",
       "    </tr>\n",
       "  </tbody>\n",
       "</table>\n",
       "</div>"
      ],
      "text/plain": [
       "    Variable                                        Label              Mean  \\\n",
       "1  Error_Ind         If mean not 0, implies ERROR in file                 0   \n",
       "2    AbsRisk  Abs risk(%) of BrCa in age interval [T1,T2)  1.64707903057814   \n",
       "3   RR_Star1                      Relative risk age lt 50  4.55115837466802   \n",
       "4   RR_Star2                      Relative risk age ge 50  3.41213878855182   \n",
       "\n",
       "  StdDev  N NMiss  \n",
       "1   None  1     0  \n",
       "2   None  1     0  \n",
       "3   None  1     0  \n",
       "4   None  1     0  "
      ]
     },
     "execution_count": 87,
     "metadata": {},
     "output_type": "execute_result"
    }
   ],
   "source": [
    "check_summary(r_dt)"
   ]
  },
  {
   "cell_type": "code",
   "execution_count": 90,
   "metadata": {},
   "outputs": [
    {
     "data": {
      "text/plain": [
       "{'Variable': {'1': 'Error_Ind',\n",
       "  '2': 'AbsRisk',\n",
       "  '3': 'RR_Star1',\n",
       "  '4': 'RR_Star2'},\n",
       " 'Label': {'1': 'If mean not 0, implies ERROR in file',\n",
       "  '2': 'Abs risk(%) of BrCa in age interval [T1,T2)',\n",
       "  '3': 'Relative risk age lt 50',\n",
       "  '4': 'Relative risk age ge 50'},\n",
       " 'Mean': {'1': '0',\n",
       "  '2': '1.64707903057814',\n",
       "  '3': '4.55115837466802',\n",
       "  '4': '3.41213878855182'},\n",
       " 'StdDev': {'1': None, '2': None, '3': None, '4': None},\n",
       " 'N': {'1': '1', '2': '1', '3': '1', '4': '1'},\n",
       " 'NMiss': {'1': '0', '2': '0', '3': '0', '4': '0'}}"
      ]
     },
     "execution_count": 90,
     "metadata": {},
     "output_type": "execute_result"
    }
   ],
   "source": [
    "check_summary(r_dt).to_dict()"
   ]
  },
  {
   "cell_type": "markdown",
   "metadata": {},
   "source": [
    "### WOW okay so now that we have this deployed ... \n",
    "\n",
    "- Here is out sample URL: http://0.0.0.0:5000/api/example_df?id=0&T1=40&T2=45&N_Biop=1&HypPlas=99&AgeMen=14&Age1st=24&N_Rels=1&Race=1"
   ]
  }
 ],
 "metadata": {
  "kernelspec": {
   "display_name": "Python 3",
   "language": "python",
   "name": "python3"
  },
  "language_info": {
   "codemirror_mode": {
    "name": "ipython",
    "version": 3
   },
   "file_extension": ".py",
   "mimetype": "text/x-python",
   "name": "python",
   "nbconvert_exporter": "python",
   "pygments_lexer": "ipython3",
   "version": "3.7.4"
  }
 },
 "nbformat": 4,
 "nbformat_minor": 2
}
