{
 "cells": [
  {
   "cell_type": "markdown",
   "metadata": {},
   "source": [
    "## Now that you published your Azure Function...\n",
    "\n",
    "Go ahead and use `curl` command to get your published function's results\n",
    "\n",
    "\n",
    "_____\n",
    "- Azure Function httptrigger example example:\n",
    "\n",
    "``` bash\n",
    "!curl https://YOUR-AZURE-SITE.azurewebsites.net/api/YOUR-FUNCTION-APP\n",
    "```\n",
    "\n",
    "Here we get the result of our **best buy checker** site for *httptrigger-testing*"
   ]
  },
  {
   "cell_type": "code",
   "execution_count": 2,
   "metadata": {},
   "outputs": [
    {
     "name": "stdout",
     "output_type": "stream",
     "text": [
      "This Sample Azure HTTP triggered function executed successfully.\r\n",
      "\r\n",
      "Pass a name in the query string or in the request body for a personalized response.\r\n",
      "\r\n",
      "URL:\r\n",
      "https://www.bestbuy.com/site/canopy/component/fulfillment/fulfillment-summary/v1?context=compare&destinationZipCode=%24(csi.location.destinationZipCode)&deviceClass=l&locale=en-US&skuId=6439402&storeId=%24(csi.location.storeId)\r\n",
      "\r\n",
      "---> val is True, item is SOLD OUT"
     ]
    }
   ],
   "source": [
    "!curl https://bestbuy-soldout-checker.azurewebsites.net/api/httptrigger-testing"
   ]
  },
  {
   "cell_type": "markdown",
   "metadata": {},
   "source": [
    "________\n",
    "\n",
    "### Think of creative ways to use Azure Functions `HTTP Trigger` in Python Projects!"
   ]
  },
  {
   "cell_type": "code",
   "execution_count": 1,
   "metadata": {},
   "outputs": [],
   "source": [
    "import time"
   ]
  },
  {
   "cell_type": "code",
   "execution_count": 12,
   "metadata": {},
   "outputs": [
    {
     "name": "stdout",
     "output_type": "stream",
     "text": [
      "Current Time = 20:33:46\n"
     ]
    }
   ],
   "source": [
    "from datetime import datetime\n",
    "\n",
    "now = datetime.now()\n",
    "\n",
    "current_time = now.strftime(\"%H:%M:%S\")\n",
    "print(\"Current Time =\", current_time)"
   ]
  },
  {
   "cell_type": "code",
   "execution_count": 25,
   "metadata": {},
   "outputs": [
    {
     "data": {
      "text/plain": [
       "'20:36:28 03/30/21'"
      ]
     },
     "execution_count": 25,
     "metadata": {},
     "output_type": "execute_result"
    }
   ],
   "source": [
    "datetime.now().strftime(\"%H:%M:%S %D\")"
   ]
  },
  {
   "cell_type": "code",
   "execution_count": null,
   "metadata": {},
   "outputs": [],
   "source": []
  }
 ],
 "metadata": {
  "kernelspec": {
   "display_name": "Python 3",
   "language": "python",
   "name": "python3"
  },
  "language_info": {
   "codemirror_mode": {
    "name": "ipython",
    "version": 3
   },
   "file_extension": ".py",
   "mimetype": "text/x-python",
   "name": "python",
   "nbconvert_exporter": "python",
   "pygments_lexer": "ipython3",
   "version": "3.7.4"
  }
 },
 "nbformat": 4,
 "nbformat_minor": 2
}
